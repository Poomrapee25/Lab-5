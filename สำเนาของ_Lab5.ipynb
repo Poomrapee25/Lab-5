{
  "nbformat": 4,
  "nbformat_minor": 0,
  "metadata": {
    "colab": {
      "provenance": [],
      "include_colab_link": true
    },
    "kernelspec": {
      "name": "python3",
      "display_name": "Python 3"
    },
    "language_info": {
      "name": "python"
    }
  },
  "cells": [
    {
      "cell_type": "markdown",
      "metadata": {
        "id": "view-in-github",
        "colab_type": "text"
      },
      "source": [
        "<a href=\"https://colab.research.google.com/github/Poomrapee25/Lab-5/blob/main/%E0%B8%AA%E0%B8%B3%E0%B9%80%E0%B8%99%E0%B8%B2%E0%B8%82%E0%B8%AD%E0%B8%87_Lab5.ipynb\" target=\"_parent\"><img src=\"https://colab.research.google.com/assets/colab-badge.svg\" alt=\"Open In Colab\"/></a>"
      ]
    },
    {
      "cell_type": "markdown",
      "source": [
        "รหัสนักศึกษา : 66015xxx ชื่อ :"
      ],
      "metadata": {
        "id": "ayuUhdui4PbN"
      }
    },
    {
      "cell_type": "markdown",
      "source": [
        "Exercise 5.1 ให้เขียน function ชื่อ day_of_year(day, month ,year) โดยมีการคืนค่า คือ day_of_years เป็นวันที่ลำดับที่เท่าใดของปีคริสตศักราช year\n",
        "ปีที่เป็น Leap Year เดือนกุมภาพันธ์จะมี 29 วัน\n",
        "ให้สร้างฟังก์ชัน is_leap เพื่อตรวจสอบ leap year แยกออกมา และให้ฟังก์ชัน day_of_year เรียกใช้ is_leap อีกที\n"
      ],
      "metadata": {
        "id": "ZXM4rXQB6Q9o"
      }
    },
    {
      "cell_type": "code",
      "source": [
        "def is_leap(year):\n",
        "\n",
        "    return (year % 4 == 0 and year % 100 != 0) or (year % 400 == 0)\n",
        "\n",
        "def day_of_year(day, month, year):\n",
        "\n",
        "    days_in_month = [31, 28, 31, 30, 31, 30, 31, 31, 30, 31, 30, 31]\n",
        "\n",
        "    if is_leap(year):\n",
        "        days_in_month[1] = 29\n",
        "\n",
        "    day_of_year = sum(days_in_month[:month-1]) + day\n",
        "\n",
        "    return day_of_year\n",
        "\n",
        "print(\"Normal year (2023):\")\n",
        "print(f\"1 Jan 2023: {day_of_year(1, 1, 2023)}\")  # ควรได้ 1\n",
        "print(f\"1 Feb 2023: {day_of_year(1, 2, 2023)}\")  # ควรได้ 32\n",
        "print(f\"1 Mar 2023: {day_of_year(1, 3, 2023)}\")  # ควรได้ 60\n",
        "print(f\"31 Dec 2023: {day_of_year(31, 12, 2023)}\")  # ควรได้ 365\n",
        "\n",
        "print(\"\\nLeap year (2024):\")\n",
        "print(f\"1 Jan 2024: {day_of_year(1, 1, 2024)}\")  # ควรได้ 1\n",
        "print(f\"29 Feb 2024: {day_of_year(29, 2, 2024)}\")  # ควรได้ 60\n",
        "print(f\"1 Mar 2024: {day_of_year(1, 3, 2024)}\")  # ควรได้ 61\n",
        "print(f\"31 Dec 2024: {day_of_year(31, 12, 2024)}\")  # ควรได้ 366\n",
        "\n",
        "print(\"\\nCentury year, not a leap year (1900):\")\n",
        "print(f\"1 Mar 1900: {day_of_year(1, 3, 1900)}\")  # ควรได้ 60\n",
        "\n",
        "print(\"\\nCentury year, leap year (2000):\")\n",
        "print(f\"1 Mar 2000: {day_of_year(1, 3, 2000)}\")  # ควรได้ 61\n",
        "\n",
        "print(\"\\nMid-year dates:\")\n",
        "print(f\"15 Jun 2023: {day_of_year(15, 6, 2023)}\")  # ควรได้ 166\n",
        "print(f\"15 Jun 2024: {day_of_year(15, 6, 2024)}\")  # ควรได้ 167 (Leap year)\n",
        "\n",
        "print(\"\\nLast day of each quarter:\")\n",
        "print(f\"31 Mar 2023: {day_of_year(31, 3, 2023)}\")  # ควรได้ 90\n",
        "print(f\"30 Jun 2023: {day_of_year(30, 6, 2023)}\")  # ควรได้ 181\n",
        "print(f\"30 Sep 2023: {day_of_year(30, 9, 2023)}\")  # ควรได้ 273\n",
        "print(f\"31 Dec 2023: {day_of_year(31, 12, 2023)}\")  # ควรได้ 365\n"
      ],
      "metadata": {
        "id": "oerlrWw46aJZ",
        "colab": {
          "base_uri": "https://localhost:8080/"
        },
        "outputId": "7872c592-8408-4049-cdc2-e9677cf11ab4"
      },
      "execution_count": null,
      "outputs": [
        {
          "output_type": "stream",
          "name": "stdout",
          "text": [
            "Normal year (2023):\n",
            "1 Jan 2023: 1\n",
            "1 Feb 2023: 32\n",
            "1 Mar 2023: 60\n",
            "31 Dec 2023: 365\n",
            "\n",
            "Leap year (2024):\n",
            "1 Jan 2024: 1\n",
            "29 Feb 2024: 60\n",
            "1 Mar 2024: 61\n",
            "31 Dec 2024: 366\n",
            "\n",
            "Century year, not a leap year (1900):\n",
            "1 Mar 1900: 60\n",
            "\n",
            "Century year, leap year (2000):\n",
            "1 Mar 2000: 61\n",
            "\n",
            "Mid-year dates:\n",
            "15 Jun 2023: 166\n",
            "15 Jun 2024: 167\n",
            "\n",
            "Last day of each quarter:\n",
            "31 Mar 2023: 90\n",
            "30 Jun 2023: 181\n",
            "30 Sep 2023: 273\n",
            "31 Dec 2023: 365\n"
          ]
        }
      ]
    },
    {
      "cell_type": "markdown",
      "source": [
        "Exercise 5.2 ให้เขียนฟังก์ชัน เพิ่มเติมเป็น date_diff\n",
        "รับข้อมูลในรูปแบบ “dd-mm-yyyy” เช่น date_diff(“1-1-2018”, “1-1-2020”) จะได้ 731 วัน date_diff(“25-12-1999”, “9-3-2000”) จะได้ 76 วัน\n",
        "ให้เขียนฟังก์ชัน day_in_year โดยจะส่งค่าจำนวนวันของปี (365 หรือ 366) โดยรับข้อมูลเป็น ปี\n",
        "ส่งคืนข้อมูลเป็นจำนวนวันตั้งแต่วันที่แรก จนถึงวันที่สอง โดยรวมทั้ง 2 วันนั้นเข้าไปด้วย\n",
        "ให้สมมติว่าวันแรก จะต้องมาก่อนวันที่สองเสมอ ดังนั้นไม่ต้องตรวจสอบ\n"
      ],
      "metadata": {
        "id": "fkkuNcAcCo-z"
      }
    },
    {
      "cell_type": "code",
      "source": [
        "def is_leap(year):\n",
        "    return (year % 4 == 0 and year % 100 != 0) or (year % 400 == 0)\n",
        "\n",
        "def days_in_month(month, year):\n",
        "    days = [31, 28 + (1 if is_leap(year) else 0), 31, 30, 31, 30, 31, 31, 30, 31, 30, 31]\n",
        "    return days[month - 1]\n",
        "\n",
        "def day_of_year(day, month, year):\n",
        "    return sum(days_in_month(m, year) for m in range(1, month)) + day\n",
        "\n",
        "def date_diff(date1, date2):\n",
        "    day1, month1, year1 = map(int, date1.split('-'))\n",
        "    day2, month2, year2 = map(int, date2.split('-'))\n",
        "\n",
        "    def total_days(day, month, year):\n",
        "        return (year - 1) * 365 + (year - 1) // 4 - (year - 1) // 100 + (year - 1) // 400 + day_of_year(day, month, year)\n",
        "\n",
        "    days1 = total_days(day1, month1, year1)\n",
        "    days2 = total_days(day2, month2, year2)\n",
        "\n",
        "    return days2 - days1 + 1\n",
        "\n",
        "print(date_diff(\"1-1-2018\", \"1-1-2020\"))\n",
        "print(date_diff(\"25-12-1999\", \"9-3-2000\"))\n",
        "print(date_diff(\"1-1-2000\", \"1-1-2001\"))\n",
        "print(date_diff(\"1-1-2001\", \"1-1-2002\"))\n",
        "print(date_diff(\"1-3-2000\", \"1-3-2001\"))\n",
        "print(date_diff(\"1-1-2023\", \"31-12-2023\"))\n",
        "\n"
      ],
      "metadata": {
        "id": "dwNIkw0wDRjF",
        "colab": {
          "base_uri": "https://localhost:8080/"
        },
        "outputId": "d55c2104-52a7-4d73-8db2-4a35c9d54cd7"
      },
      "execution_count": null,
      "outputs": [
        {
          "output_type": "stream",
          "name": "stdout",
          "text": [
            "731\n",
            "76\n",
            "367\n",
            "366\n",
            "366\n",
            "365\n"
          ]
        }
      ]
    },
    {
      "cell_type": "markdown",
      "source": [
        "Exercise 5.3 จากโปรแกรม 5.2 ให้เขียนฟังก์ชัน date_diff  เพิ่มเติม โดยให้มีการตรวจสอบ\n",
        "วันที่ต้องเป็นวันที่ถูกต้องของเดือนนั้นๆ\n",
        "เดือนต้องอยู่ระหว่าง 1-12\n",
        "เดือนกุมภาพันธ์ของปีที่มี Leap Year เท่านั้นที่จะมี 29 วันได้\n",
        "หากข้อมูล Input ผิดพลาด ให้ Return -1\n"
      ],
      "metadata": {
        "id": "JU8jQcg4WDoF"
      }
    },
    {
      "cell_type": "code",
      "source": [
        "def is_leap(year):\n",
        "    return (year % 4 == 0 and year % 100 != 0) or (year % 400 == 0)\n",
        "\n",
        "def days_in_month(month, year):\n",
        "    if month < 1 or month > 12:\n",
        "        return -1\n",
        "    days = [31, 28 + (1 if is_leap(year) else 0), 31, 30, 31, 30, 31, 31, 30, 31, 30, 31]\n",
        "    return days[month - 1]\n",
        "\n",
        "def day_of_year(day, month, year):\n",
        "    if day < 1 or month < 1 or month > 12 or day > days_in_month(month, year):\n",
        "        return -1\n",
        "    return sum(days_in_month(m, year) for m in range(1, month)) + day\n",
        "\n",
        "def date_diff(date1, date2):\n",
        "    try:\n",
        "        day1, month1, year1 = map(int, date1.split('-'))\n",
        "        day2, month2, year2 = map(int, date2.split('-'))\n",
        "    except ValueError:\n",
        "        return -1\n",
        "\n",
        "    if (day1 < 1 or day1 > days_in_month(month1, year1) or\n",
        "        day2 < 1 or day2 > days_in_month(month2, year2) or\n",
        "        month1 < 1 or month1 > 12 or\n",
        "        month2 < 1 or month2 > 12):\n",
        "        return -1\n",
        "\n",
        "    def total_days(day, month, year):\n",
        "        return (year - 1) * 365 + (year - 1) // 4 - (year - 1) // 100 + (year - 1) // 400 + day_of_year(day, month, year)\n",
        "\n",
        "    days1 = total_days(day1, month1, year1)\n",
        "    days2 = total_days(day2, month2, year2)\n",
        "\n",
        "    if days1 == -1 or days2 == -1:\n",
        "        return -1\n",
        "\n",
        "    return days2 - days1 + 1\n",
        "\n",
        "print(date_diff(\"1-1-2018\", \"1-1-2020\"))\n",
        "print(date_diff(\"25-12-1999\", \"9-3-2000\"))\n",
        "print(date_diff(\"1-1-2000\", \"1-1-2001\"))\n"
      ],
      "metadata": {
        "id": "OgqrXbFVWEML",
        "colab": {
          "base_uri": "https://localhost:8080/"
        },
        "outputId": "ed9102bd-65ce-4b47-f32c-3a03610f6192"
      },
      "execution_count": null,
      "outputs": [
        {
          "output_type": "stream",
          "name": "stdout",
          "text": [
            "731\n",
            "76\n",
            "367\n"
          ]
        }
      ]
    },
    {
      "cell_type": "markdown",
      "source": [
        "1.\tปลาหมอคางดำเพศเมีย 1 ตัว เมื่ออายุครบ 2 เดือน จะสามารถสืบพันธ์ได้ โดยระยะเวลาตั้งท้องจนถึง\n",
        "วางไข่ของตัวเมียจะใช้เวลา 21 วัน และฟักในปากเพศผู้อีก 7 วัน (สามารถรวมเป็น 1 เดือนได้) โดยออกไข่ครั้งละ 300 ฟอง กำหนดให้ไข่ฟักเป็นเพศผู้และเพศเมียอย่างละครึ่ง และเมื่อวางไข่แล้วจะสามารถสืบพันธ์ต่อได้ทันที กำหนดให้ปลามีอายุ 5 ปี และปลาทั้งหมดจะตาย p% ทุก 1 เดือน จงหาว่าปลาหมอคางดำหลุดจากฟาร์ม n ตัวเป็นเพศผู้และเพศเมียอย่างละครึ่ง จงเขียนโปรแกรมรับค่า n และ p ให้แสดงผลจำนวนปลาทุก 3 เดือน เป็นเวลา 10 ปี ให้เขียนเป็นฟังก์ชัน ชื่อ simulate_fish_population()\n"
      ],
      "metadata": {
        "id": "tdBCjJzeWb2c"
      }
    },
    {
      "cell_type": "code",
      "execution_count": null,
      "metadata": {
        "id": "JmvNmVQh4C9X",
        "colab": {
          "base_uri": "https://localhost:8080/"
        },
        "outputId": "76fc03fb-b7e7-44ea-8a59-391293ca755d"
      },
      "outputs": [
        {
          "output_type": "stream",
          "name": "stdout",
          "text": [
            "Month 3: Total fish population = 1739628\n",
            "Month 6: Total fish population = 760644471106\n",
            "Month 9: Total fish population = 332588356117436442\n",
            "Month 12: Total fish population = 145422755080391077381422\n",
            "Month 15: Total fish population = 63585442202625280151893253290\n",
            "Month 18: Total fish population = 27802447133313705744301314562976606\n",
            "Month 21: Total fish population = 12156494314177928129408406856528620956730\n",
            "Month 24: Total fish population = 5315372179363504668471604267009933806872502542\n",
            "Month 27: Total fish population = 2324122454629069515168176195700943874304298921849418\n",
            "Month 30: Total fish population = 1016212035928943269140243428875487063229896457010141565502\n",
            "Month 33: Total fish population = 444334118415316010217406408395549841486166761091115303588508378\n",
            "Month 36: Total fish population = 194283084442547570348367379443944627805701864766323910720803518827246\n",
            "Month 39: Total fish population = 84949400318679160556400002603732124993292116700465483567278983441740222954\n",
            "Month 42: Total fish population = 37143741233103622192515696895038829771300622244146696592455845953230812354590494\n",
            "Month 45: Total fish population = 16240932927320443989982288721032517629457500176931705898019076383786183354930024698746\n",
            "Month 48: Total fish population = 7101274497213099723278304094759854662784975037361530144301217407987412407527772692362371790\n",
            "Month 51: Total fish population = 3105000169044425961588969484489829929084836963581396347191246894775406995939104635997452828892042\n",
            "Month 54: Total fish population = 1357647286208911004794404336252684708903233838417519384469851139162385972652011711401337487493879347710\n",
            "Month 57: Total fish population = 593625137971465387500614773731513301615912802938618579612440256106989057161584885415866649660608513936043546\n",
            "Month 60: Total fish population = 259559907798774471430576923086541745073829862537480457694426611420253837904497940910378389116903688087410441029806\n",
            "Month 63: Total fish population = 113491396214670979377191363050311143974105146467870415603297209536545960657785699135505941006062643382382551472218844970\n",
            "Month 66: Total fish population = 49623599900262599259450251033551531040898218867013451720035427226280502404633846923650229823868690479447260888452606038112990\n",
            "Month 69: Total fish population = 21697694708094672534192013938368987089175429399408289928594893064740935121149219440608647101493366454002507628644262505929041863354\n",
            "Month 72: Total fish population = 9487218915836620261000137129960388770829974929434844148153618426760105387808125973599131650653443264511518440687513436208193730990267534\n",
            "Month 75: Total fish population = 4148243579232843714342844656826342754294084468175829353157229073678532468171763092900156989379340960015486769527642314763270036172325137050826\n",
            "Month 78: Total fish population = 1813800750810339202718445360884471407763781937364664164977032081628839734406357799783850935654664640204243662681929291655412965928897985258858797502\n",
            "Month 81: Total fish population = 793076178098626404199533619948857243788705088395668891695398185683104210829509879132046882764754812084923592613171968720822643646593122348142705906553178\n",
            "Month 84: Total fish population = 346768973376223212055491272233280572904264830687987141712597888130145327460203125959047180288835886462594236140239536434789256874132152324278662072726823796334\n",
            "Month 87: Total fish population = 151623165866224965686232117870891472756759734039626433905567407438398479092465288618780449761752651279130286285700518221258443391157425104006603579708909827939873898\n",
            "Month 90: Total fish population = 66296543786673985146525234392361937195446221225410172735811166240349050613711395090144937705387869567422242537243174059774042340605978561661718993836874228117786245084830\n",
            "Month 93: Total fish population = 28987864044048740470838045463002308264204820945058189954057322134073262256633697172388638576700731239729452564983416781628618069933247144770448821652500624106839881515407530490\n",
            "Month 96: Total fish population = 12674812499126968616623473742581173383311074706810757670033944684158202890452202855196763478021639622944882751059031972119216708694954810961861791453588488985326442834623549864726094\n",
            "Month 99: Total fish population = 5542004462415958469211461460573925253470882378829254502657455562645325120007004762484060864469750219356064635019562094325293033509907970279425170150867264869544819849506479215439450187274\n",
            "Month 102: Total fish population = 2423216395789203257967117897058980794720425443104542841021713504210630363611154216205679256233655422417656678648340241928539970940855311751734093021019039424090011585201755230856394366996246910\n",
            "Month 105: Total fish population = 1059540413697503762618610978255565103092086486556721612910806605694401143527539924354970099384361905007400304199518468575034755090308651054555000802050173237085216290638506226465883626037773824351386\n",
            "Month 108: Total fish population = 463279255707023195650502373729948514795751522919282074736145202312258696139302087645052062080075621276636591982102896980188024665926936548561891798257887269670708860097926594359989931712897906865305431086\n",
            "Month 111: Total fish population = 202566760072380841315075522133034598704839247023327751627425567134119031607804830425157850646471007313004888240269254430097773055409697744965544096466911718564687671520864641727560268728604469062555737474195882\n",
            "Month 114: Total fish population = 88571400037326235779123675628056197243111784113823097386557617846838315885068782874961139819398570047529149577431145300930625640112816828746677758687518064390246591426361953062874645156161195139649379489857692494430\n",
            "Month 117: Total fish population = 38727444235021328023094223280258171090539671628232260960066602623930034850271402415238998846424536152406058633824551411589717596435350695970150512248233953289066886235386219951284857623981342389452405018427762503483799866\n",
            "Month 120: Total fish population = 16933399904987689210826340079855464580188625563067154034290248073803321637741659808623143855078996713556112522733599406867481294668485886354535099718264637087338668378614532616620370312212995564750866726341166674395048185985038\n"
          ]
        }
      ],
      "source": [
        "import math\n",
        "\n",
        "def simulate_fish_population(n, p, months=3, total_years=10):\n",
        "    total_months = total_years * 12\n",
        "    fish_population = [n] * 2\n",
        "    monthly_mortality_rate = p / 100\n",
        "\n",
        "    results = []\n",
        "\n",
        "    for current_month in range(1, total_months + 1):\n",
        "        males = fish_population[0]\n",
        "        females = fish_population[1]\n",
        "\n",
        "        if females > 0:\n",
        "            new_eggs = females * 300\n",
        "            new_fry = new_eggs // 2\n",
        "        else:\n",
        "            new_eggs = 0\n",
        "            new_fry = 0\n",
        "\n",
        "        total_fish = males + females\n",
        "        surviving_fish = total_fish * (1 - monthly_mortality_rate)\n",
        "\n",
        "        fish_population = [int(surviving_fish // 2), int(surviving_fish // 2)]\n",
        "\n",
        "        fish_population[0] += new_fry // 2\n",
        "        fish_population[1] += new_fry // 2\n",
        "\n",
        "        if current_month % months == 0:\n",
        "            total_fish_count = fish_population[0] + fish_population[1]\n",
        "            results.append((current_month, total_fish_count))\n",
        "\n",
        "    return results\n",
        "\n",
        "n = 2\n",
        "p = 10\n",
        "\n",
        "results = simulate_fish_population(n, p)\n",
        "\n",
        "for month, population in results:\n",
        "    print(f\"Month {month}: Total fish population = {population}\")\n",
        "\n"
      ]
    },
    {
      "cell_type": "markdown",
      "source": [
        "2.\tให้เขียน function find_mismatch ซึ่งรับ string มา 2 ค่า โดยจะส่งค่ากลับดังนี้\n",
        "- 0 เมื่อ string ทั้ง 2 ตัว เหมือนกัน โดยไม่สนใจ case\n",
        "- 1 เมื่อ string 1 จะเหมือน string 2 โดยการลบและ/หรือเพิ่มตัวอักษรเพียง 1 ตัว\n",
        "- 2 เมื่อ string ไม่เข้าเกณฑ์ 0 หรือ 1\n",
        "\n",
        "\n",
        "| String  1| \tString2\t|ผลลัพธ์|\n",
        "|----------|----------|------|\n",
        "|Python|\tJava\t|2|\n",
        "|book\t |  boot\t|1|\n",
        "|fan\t |  fun\t  |1|\n",
        "|sin\t | sink\t  |1 เพราะเพิ่ม k ใน str2 แล้วจะเหมือนกัน\n",
        "|Dog\t | dog\t  |0\n",
        "|poke\t | spoke\t|1 เพิ่ม s ใน str2 แล้วเหมือนกัน\n",
        "|poker |\tpoke\t|1 ตัด r ใน str1 ออกแล้วเหมือนกัน\n",
        "\n",
        "\n",
        "\n",
        "\n"
      ],
      "metadata": {
        "id": "F0_ZEPOYbDKf"
      }
    },
    {
      "cell_type": "code",
      "source": [
        "def find_mismatch(str1, str2):\n",
        "    str1 = str1.lower()\n",
        "    str2 = str2.lower()\n",
        "\n",
        "    if str1 == str2:\n",
        "        return 0\n",
        "\n",
        "    len1, len2 = len(str1), len(str2)\n",
        "\n",
        "    def is_one_edit_away(s1, s2):\n",
        "        len1, len2 = len(s1), len(s2)\n",
        "\n",
        "        if abs(len1 - len2) > 1:\n",
        "            return False\n",
        "\n",
        "        if len1 < len2:\n",
        "            s1, s2 = s2, s1\n",
        "        i, j = 0, 0\n",
        "        found_difference = False\n",
        "\n",
        "        while i < len(s1) and j < len(s2):\n",
        "            if s1[i] != s2[j]:\n",
        "                if found_difference:\n",
        "                    return False\n",
        "                found_difference = True\n",
        "                if len1 == len2:\n",
        "                    j += 1\n",
        "            else:\n",
        "                j += 1\n",
        "            i += 1\n",
        "\n",
        "        return True\n",
        "\n",
        "    if is_one_edit_away(str1, str2):\n",
        "        return 1\n",
        "\n",
        "    return 2\n",
        "\n",
        "print(find_mismatch(\"Python\", \"Java\"))\n",
        "print(find_mismatch(\"book\", \"boot\"))\n",
        "print(find_mismatch(\"fan\", \"fun\"))\n",
        "print(find_mismatch(\"sin\", \"sink\"))\n",
        "print(find_mismatch(\"Dog\", \"dog\"))\n",
        "print(find_mismatch(\"poke\", \"spoke\"))\n",
        "print(find_mismatch(\"poker\", \"poke\"))\n"
      ],
      "metadata": {
        "id": "jyVxAb-MXnz2",
        "colab": {
          "base_uri": "https://localhost:8080/"
        },
        "outputId": "d7168d2f-705b-47d7-d2cd-0f913bd0557e"
      },
      "execution_count": null,
      "outputs": [
        {
          "output_type": "stream",
          "name": "stdout",
          "text": [
            "2\n",
            "1\n",
            "1\n",
            "1\n",
            "0\n",
            "1\n",
            "1\n"
          ]
        }
      ]
    },
    {
      "cell_type": "markdown",
      "source": [
        "3.\tจากข้อ 1 ให้เขียนฟังก์ชันชื่อ spelling_correction โดยรับ 2 argument ตัวแรกเป็นประโยค (string) และตัวที่ 2 เป็น list ของคำ (correct_spells) โดยฟังก์ชันนี้มีหน้าที่ตรวจสอบแต่ละ word ใน input string กับคำที่อยู่ใน correct_spells โดยค่าที่คืนกลับมาจะมีดังนี้ (พยายามเรียกใช้ฟังก์ชันในข้อ 1)\n",
        "-\tถ้าคำที่อยู่ในประโยค ตรงกับคำที่อยู่ใน correct_spells ทุกอย่าง ก็จะ copy ไปที่ output string\n",
        "-\tถ้าคำที่อยู่ในประโยค ต่างจากคำที่อยู่ใน correct_spells โดยต่างกัน 1 ตัวอักษร โดยการเปลี่ยน การเพิ่ม หรือการลบ 1 ตัวอักษร คำที่อยู่ในประโยคจะถูกเปลี่ยนโดยคำที่อยู่ใน correct_spells และนำไปใส่ output string\n",
        "-\tถ้าคำที่ไม่พบในเงื่อนไขข้างต้นให้นำคำนั้นไปใส่ output string ได้เลย\n",
        "-\tคำที่ประกอบด้วย 1 หรือ 2 ตัวอักษรจะไม่ตรวจสอบ ให้นำคำนั้นไปใส่ output string ได้เลย\n",
        "-\tถ้ามี 2 คำใน correct_spells ที่ตรงตามเงื่อนไข ให้ใช้คำแรก\n",
        "-\tไม่สนใจตัวใหญ่ ตัวเล็ก\n",
        "-\tInput string จะมีได้เพียงอักษรภาษาอังกฤษเท่านั้น\n",
        "-\tในแต่ละคำจะคั่นด้วย 1 space ถ้ามี space มากกว่านั้นให้ตัดออก และตัด space จากหัวท้ายประโยค\n",
        "\n",
        "|ประโยค\t|correct_spells\t|output string |\n",
        "|-------|---------------|-------------|\n",
        "|Thes is the Firs cas\t|[‘that’,’first’,’case’,’car’]|\tthes is the first car|\n",
        "|programming is fan and easy\t|[‘programming’,’this’,’fun’,’easy’,book’]\t|programming is fun and easy|\n",
        "|Thes is vary essy\t|[‘this’,’is’,’very’,’easy’]\t|this is very easy|\n",
        "|Wee ipve Pythen\t|[‘we’,’live’,’ln’,’Python’]\t|we live python|\n",
        "\n",
        "\n"
      ],
      "metadata": {
        "id": "jzXp83HSbMh9"
      }
    },
    {
      "cell_type": "code",
      "source": [
        "def is_one_edit_away(word1, word2):\n",
        "    len1, len2 = len(word1), len(word2)\n",
        "\n",
        "    if abs(len1 - len2) > 1:\n",
        "        return False\n",
        "\n",
        "    if len1 > len2:\n",
        "        word1, word2 = word2, word1\n",
        "        len1, len2 = len2, len1\n",
        "\n",
        "    i, j = 0, 0\n",
        "    found_difference = False\n",
        "\n",
        "    while i < len1 and j < len2:\n",
        "        if word1[i] != word2[j]:\n",
        "            if found_difference:\n",
        "                return False\n",
        "            found_difference = True\n",
        "            if len1 == len2:\n",
        "                i += 1\n",
        "        else:\n",
        "            i += 1\n",
        "        j += 1\n",
        "\n",
        "    return True\n",
        "\n",
        "def spelling_correction(input_string, correct_spells):\n",
        "    words = input_string.strip().split()\n",
        "\n",
        "    correct_spells = [spell.lower() for spell in correct_spells]\n",
        "\n",
        "    output_words = []\n",
        "\n",
        "    for word in words:\n",
        "        lower_word = word.lower()\n",
        "\n",
        "        if len(lower_word) <= 2:\n",
        "            output_words.append(word)\n",
        "            continue\n",
        "\n",
        "        if lower_word in correct_spells:\n",
        "            output_words.append(word)\n",
        "        else:\n",
        "            corrected = None\n",
        "            for spell in correct_spells:\n",
        "                if is_one_edit_away(lower_word, spell):\n",
        "                    corrected = spell\n",
        "                    break\n",
        "\n",
        "            if corrected:\n",
        "                if word.islower():\n",
        "                    output_words.append(corrected)\n",
        "                elif word.istitle():\n",
        "                    output_words.append(corrected.capitalize())\n",
        "                else:\n",
        "                    output_words.append(corrected.upper())\n",
        "            else:\n",
        "                output_words.append(word)\n",
        "\n",
        "    return ' '.join(output_words)\n",
        "\n",
        "print(spelling_correction(\"Thes is the Firs cas\", ['that', 'first', 'case', 'car']))\n",
        "\n",
        "print(spelling_correction(\"programming is fan and easy\", ['programming', 'this', 'fun', 'easy', 'book']))\n",
        "\n",
        "print(spelling_correction(\"Thes is vary essy\", ['this', 'is', 'very', 'easy']))\n",
        "\n",
        "print(spelling_correction(\"Wee ipve Pythen\", ['we', 'live', 'ln', 'Python']))\n"
      ],
      "metadata": {
        "id": "4NW0Y1hXpfCt",
        "colab": {
          "base_uri": "https://localhost:8080/"
        },
        "outputId": "2cf2132f-8b73-4579-f162-e709a4421aec"
      },
      "execution_count": null,
      "outputs": [
        {
          "output_type": "stream",
          "name": "stdout",
          "text": [
            "Thes is the First case\n",
            "programming is fun and easy\n",
            "This is very easy\n",
            "We ipve Python\n"
          ]
        }
      ]
    },
    {
      "cell_type": "markdown",
      "source": [
        "4. ให้เขียนฟังก์ชัน find_word_horizontal ซึ่งจะรับ list ขนาด 2 มิติ ของตัวอักษร (คล้ายกับเกม cross word) และ word ซึ่งเป็น string เป็น argument โดยฟังก์ชันนี้ จะค้นหาตามแถวของ list เพื่อหาตำแหน่งที่มีอักษรตรงกับคำใน word ถ้าพบ จะส่งคืน row index และ column index ของตัวอักษรแรก ถ้าไม่พบจะส่งคืน None\n",
        "\n",
        "```\n",
        "crosswords=[['s','d','o','g'],\n",
        "            ['c','u','c','m'],\n",
        "            ['a','c','a','t'],\n",
        "            ['t',' e','t','k']]\n",
        "\tword='cat'\n",
        "\tfind_word_horizontal(crosswords,word)\n",
        "```\n",
        "\n",
        "Output\n",
        "   [2,1]\n"
      ],
      "metadata": {
        "id": "sshYZJYZpfua"
      }
    },
    {
      "cell_type": "code",
      "source": [
        "def find_word_horizontal(crosswords, word):\n",
        "    num_rows = len(crosswords)\n",
        "\n",
        "    for row_index, row in enumerate(crosswords):\n",
        "        horizontal_string = ''.join(row)\n",
        "\n",
        "        if word in horizontal_string:\n",
        "            start_index = horizontal_string.index(word)\n",
        "            return [row_index, start_index]\n",
        "\n",
        "    return None\n",
        "\n",
        "crosswords = [['s','d','o','g'],\n",
        "              ['c','u','c','m'],\n",
        "              ['a','c','a','t'],\n",
        "              ['t','e','t','k']]\n",
        "word = 'cat'\n",
        "\n",
        "print(find_word_horizontal(crosswords, word))\n"
      ],
      "metadata": {
        "id": "2z0nonPMqZ_Q",
        "colab": {
          "base_uri": "https://localhost:8080/"
        },
        "outputId": "94de32f7-da43-4db1-9180-b5eebb02c94f"
      },
      "execution_count": null,
      "outputs": [
        {
          "output_type": "stream",
          "name": "stdout",
          "text": [
            "[2, 1]\n"
          ]
        }
      ]
    },
    {
      "cell_type": "markdown",
      "source": [
        "5. ให้เขียนฟังก์ชัน find_word_vertical ซึ่งจะรับ list ขนาด 2 มิติ ของตัวอักษร (คล้ายกับเกม cross word) และ word ซึ่งเป็น string เป็น argument โดยฟังก์ชันนี้ จะค้นหาตามคอลัมน์ของ list เพื่อหาตำแหน่งที่มีอักษรตรงกับคำใน word ถ้าพบ จะส่งคืน row index และ column index ของตัวอักษรแรก ถ้าไม่พบจะส่งคืน None\n",
        "\n",
        "ตัวอย่าง\n",
        "```\n",
        "\tcrosswords=[['s','d','o','g'],\n",
        "              ['c','u','c','m'],\n",
        "              ['a','c','a','t'],\n",
        "              ['t',' e','t','k']]\n",
        "\tword='cat'\n",
        "\tfind_word_vertical(crosswords,word)\n",
        "```\n",
        "\n",
        "Output\n",
        "   [1,0]\n"
      ],
      "metadata": {
        "id": "sDhGHMPsqr6a"
      }
    },
    {
      "cell_type": "code",
      "source": [
        "def find_word_vertical(crosswords, word):\n",
        "    num_rows = len(crosswords)\n",
        "    if num_rows == 0:\n",
        "        return None\n",
        "    num_cols = len(crosswords[0])\n",
        "    for col in range(num_cols):\n",
        "        vertical_string = ''.join(crosswords[row][col] for row in range(num_rows))\n",
        "\n",
        "        if word in vertical_string:\n",
        "            start_index = vertical_string.index(word)\n",
        "            return [start_index, col]\n",
        "    return None\n",
        "crosswords = [['s','d','o','g'],\n",
        "              ['c','u','c','m'],\n",
        "              ['a','c','a','t'],\n",
        "              ['t','e','t','k']]\n",
        "word = 'cat'\n",
        "print(find_word_vertical(crosswords, word))\n"
      ],
      "metadata": {
        "id": "R5Jp1CkQrEz9",
        "colab": {
          "base_uri": "https://localhost:8080/"
        },
        "outputId": "37787f9c-9b17-404b-84fb-dc4aed4939d5"
      },
      "execution_count": null,
      "outputs": [
        {
          "output_type": "stream",
          "name": "stdout",
          "text": [
            "[1, 0]\n"
          ]
        }
      ]
    },
    {
      "cell_type": "markdown",
      "source": [
        "6.\tให้เขียนฟังก์ชัน capitalize_word_in_crossword จะรับ list ขนาด 2 มิติ ของตัวอักษร (คล้ายกับเกม cross word) และ word ซึ่งเป็น string เป็น argument โดยฟังก์ชันนี้ จะค้นหาตาม row และ column ของ list เพื่อหาตำแหน่งที่มีอักษรตรงกับคำใน word ถ้าพบจะเปลี่ยนเป็นตัวใหญ่และ และส่งคืน list ที่แก้ไขแล้ว แต่ถ้าไม่เจอจะส่ง list เดิมกลับมา ให้ใช้ฟังก์ชันตามข้อ 3 และ 4 ช่วย\n",
        "\n",
        "```\n",
        "crosswords=[['s','d','o','g'],\n",
        "            ['c','u','c','m'],\n",
        "            ['a','x','a','t'],\n",
        "            ['t','e','t','k']]\n",
        "word='cat'\n",
        "capitalize_word_in_crossword(crosswords,word)\n",
        "```\n",
        "จะส่งค่ากลับ\n",
        "```\n",
        " [['s','d','o','g'],\n",
        "  ['C','u','c','m'],\n",
        "  ['A','x','a','t'],\n",
        "  ['T','e','t','k']]\n",
        "```\n",
        "```\n",
        "crosswords=[['s','d','o','g'],\n",
        "            ['c','u','c','m'],\n",
        "            ['a','c','a','t'],\n",
        "            ['t','e','t','k']]\n",
        "word='cat'\n",
        "capitalize_word_in_crossword(crosswords,word)\n",
        "จะส่งค่ากลับ                   \n",
        "[['s','d','o','g'],\n",
        " ['c','u','c','m'],\n",
        " ['a','C','A','T'],\n",
        " ['t','e','t','k']]\n",
        "```\n",
        "\n",
        "\n"
      ],
      "metadata": {
        "id": "dinoUBQTrDFp"
      }
    },
    {
      "cell_type": "code",
      "source": [
        "def capitalize_word_in_crossword(crosswords, word):\n",
        "    rows = len(crosswords)\n",
        "    cols = len(crosswords[0]) if rows > 0 else 0\n",
        "    word_len = len(word)\n",
        "\n",
        "    def capitalize_in_list(lst, word):\n",
        "        for i in range(len(lst) - word_len + 1):\n",
        "            if lst[i:i + word_len] == list(word):\n",
        "                for j in range(word_len):\n",
        "                    lst[i + j] = lst[i + j].upper()\n",
        "                return True\n",
        "        return False\n",
        "\n",
        "    for row in crosswords:\n",
        "        capitalize_in_list(row, word)\n",
        "\n",
        "    for col in range(cols):\n",
        "        col_list = [crosswords[row][col] for row in range(rows)]\n",
        "        if capitalize_in_list(col_list, word):\n",
        "            for row in range(rows):\n",
        "                crosswords[row][col] = col_list[row]\n",
        "\n",
        "    return crosswords\n",
        "\n",
        "crosswords1 = [['s','d','o','g'],\n",
        "               ['c','u','c','m'],\n",
        "               ['a','x','a','t'],\n",
        "               ['t','e','t','k']]\n",
        "word1 = 'cat'\n",
        "print(capitalize_word_in_crossword(crosswords1, word1))\n",
        "\n",
        "crosswords2 = [['s','d','o','g'],\n",
        "               ['c','u','c','m'],\n",
        "               ['a','c','a','t'],\n",
        "               ['t','e','t','k']]\n",
        "word2 = 'cat'\n",
        "print(capitalize_word_in_crossword(crosswords2, word2))"
      ],
      "metadata": {
        "id": "IM99mZNs0css",
        "colab": {
          "base_uri": "https://localhost:8080/"
        },
        "outputId": "d0e1a09b-6b8a-4acf-9ae6-0cce929858be"
      },
      "execution_count": null,
      "outputs": [
        {
          "output_type": "stream",
          "name": "stdout",
          "text": [
            "[['s', 'd', 'o', 'g'], ['C', 'u', 'C', 'm'], ['A', 'x', 'A', 't'], ['T', 'e', 'T', 'k']]\n",
            "[['s', 'd', 'o', 'g'], ['C', 'u', 'c', 'm'], ['A', 'C', 'A', 'T'], ['T', 'e', 't', 'k']]\n"
          ]
        }
      ]
    }
  ]
}